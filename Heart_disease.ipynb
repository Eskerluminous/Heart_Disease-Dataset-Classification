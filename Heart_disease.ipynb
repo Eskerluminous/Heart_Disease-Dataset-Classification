{
  "nbformat": 4,
  "nbformat_minor": 0,
  "metadata": {
    "colab": {
      "provenance": [],
      "mount_file_id": "17NFBqGlRDFGNQx7rnd9TMXxR0aBTrdWE",
      "authorship_tag": "ABX9TyP74Qq04tK6HeSAwUYPUMzj",
      "include_colab_link": true
    },
    "kernelspec": {
      "name": "python3",
      "display_name": "Python 3"
    },
    "language_info": {
      "name": "python"
    },
    "accelerator": "GPU",
    "gpuClass": "standard"
  },
  "cells": [
    {
      "cell_type": "markdown",
      "metadata": {
        "id": "view-in-github",
        "colab_type": "text"
      },
      "source": [
        "<a href=\"https://colab.research.google.com/github/Eskerluminous/Heart_Disease-Dataset-Classification/blob/main/Heart_disease.ipynb\" target=\"_parent\"><img src=\"https://colab.research.google.com/assets/colab-badge.svg\" alt=\"Open In Colab\"/></a>"
      ]
    },
    {
      "cell_type": "markdown",
      "source": [
        "## **-----------Import Libraries------------**"
      ],
      "metadata": {
        "id": "iYqW5qDJ0KVN"
      }
    },
    {
      "cell_type": "code",
      "execution_count": 1,
      "metadata": {
        "id": "n492WefWzUa4"
      },
      "outputs": [],
      "source": [
        "import numpy as np\n",
        "import pandas as pd\n",
        "import matplotlib.pyplot as plt\n",
        "import warnings\n",
        "import os\n",
        "import yellowbrick\n",
        "import seaborn as sns\n",
        "import pickle\n",
        "from matplotlib.collections import PathCollection\n",
        "from sklearn.model_selection import train_test_split\n",
        "\n",
        "from sklearn.naive_bayes import GaussianNB\n",
        "from sklearn.ensemble import RandomForestClassifier\n",
        "from sklearn.metrics import classification_report, accuracy_score\n"
      ]
    },
    {
      "cell_type": "markdown",
      "source": [
        "# ----------Read Dataset-----------"
      ],
      "metadata": {
        "id": "fyh-xU8rOMau"
      }
    },
    {
      "cell_type": "code",
      "source": [
        "df = pd.read_csv(\"/content/HeartDisease.csv\")\n",
        "df.head()\n"
      ],
      "metadata": {
        "colab": {
          "base_uri": "https://localhost:8080/",
          "height": 206
        },
        "id": "FFcSyDgM0QHd",
        "outputId": "82d12537-ce47-4fd1-efa3-d0097bdabff9"
      },
      "execution_count": 3,
      "outputs": [
        {
          "output_type": "execute_result",
          "data": {
            "text/plain": [
              "   age  sex  cp  trestbps  chol  fbs  restecg  thalach  exang  oldpeak  slope  \\\n",
              "0   63    1   3       145   233    1        0      150      0      2.3      0   \n",
              "1   37    1   2       130   250    0        1      187      0      3.5      0   \n",
              "2   41    0   1       130   204    0        0      172      0      1.4      2   \n",
              "3   56    1   1       120   236    0        1      178      0      0.8      2   \n",
              "4   57    0   0       120   354    0        1      163      1      0.6      2   \n",
              "\n",
              "   ca  thal  target  \n",
              "0   0     1       1  \n",
              "1   0     2       1  \n",
              "2   0     2       1  \n",
              "3   0     2       1  \n",
              "4   0     2       1  "
            ],
            "text/html": [
              "\n",
              "  <div id=\"df-e962164a-f9ea-4a99-9d68-bcc3ac8dedc1\">\n",
              "    <div class=\"colab-df-container\">\n",
              "      <div>\n",
              "<style scoped>\n",
              "    .dataframe tbody tr th:only-of-type {\n",
              "        vertical-align: middle;\n",
              "    }\n",
              "\n",
              "    .dataframe tbody tr th {\n",
              "        vertical-align: top;\n",
              "    }\n",
              "\n",
              "    .dataframe thead th {\n",
              "        text-align: right;\n",
              "    }\n",
              "</style>\n",
              "<table border=\"1\" class=\"dataframe\">\n",
              "  <thead>\n",
              "    <tr style=\"text-align: right;\">\n",
              "      <th></th>\n",
              "      <th>age</th>\n",
              "      <th>sex</th>\n",
              "      <th>cp</th>\n",
              "      <th>trestbps</th>\n",
              "      <th>chol</th>\n",
              "      <th>fbs</th>\n",
              "      <th>restecg</th>\n",
              "      <th>thalach</th>\n",
              "      <th>exang</th>\n",
              "      <th>oldpeak</th>\n",
              "      <th>slope</th>\n",
              "      <th>ca</th>\n",
              "      <th>thal</th>\n",
              "      <th>target</th>\n",
              "    </tr>\n",
              "  </thead>\n",
              "  <tbody>\n",
              "    <tr>\n",
              "      <th>0</th>\n",
              "      <td>63</td>\n",
              "      <td>1</td>\n",
              "      <td>3</td>\n",
              "      <td>145</td>\n",
              "      <td>233</td>\n",
              "      <td>1</td>\n",
              "      <td>0</td>\n",
              "      <td>150</td>\n",
              "      <td>0</td>\n",
              "      <td>2.3</td>\n",
              "      <td>0</td>\n",
              "      <td>0</td>\n",
              "      <td>1</td>\n",
              "      <td>1</td>\n",
              "    </tr>\n",
              "    <tr>\n",
              "      <th>1</th>\n",
              "      <td>37</td>\n",
              "      <td>1</td>\n",
              "      <td>2</td>\n",
              "      <td>130</td>\n",
              "      <td>250</td>\n",
              "      <td>0</td>\n",
              "      <td>1</td>\n",
              "      <td>187</td>\n",
              "      <td>0</td>\n",
              "      <td>3.5</td>\n",
              "      <td>0</td>\n",
              "      <td>0</td>\n",
              "      <td>2</td>\n",
              "      <td>1</td>\n",
              "    </tr>\n",
              "    <tr>\n",
              "      <th>2</th>\n",
              "      <td>41</td>\n",
              "      <td>0</td>\n",
              "      <td>1</td>\n",
              "      <td>130</td>\n",
              "      <td>204</td>\n",
              "      <td>0</td>\n",
              "      <td>0</td>\n",
              "      <td>172</td>\n",
              "      <td>0</td>\n",
              "      <td>1.4</td>\n",
              "      <td>2</td>\n",
              "      <td>0</td>\n",
              "      <td>2</td>\n",
              "      <td>1</td>\n",
              "    </tr>\n",
              "    <tr>\n",
              "      <th>3</th>\n",
              "      <td>56</td>\n",
              "      <td>1</td>\n",
              "      <td>1</td>\n",
              "      <td>120</td>\n",
              "      <td>236</td>\n",
              "      <td>0</td>\n",
              "      <td>1</td>\n",
              "      <td>178</td>\n",
              "      <td>0</td>\n",
              "      <td>0.8</td>\n",
              "      <td>2</td>\n",
              "      <td>0</td>\n",
              "      <td>2</td>\n",
              "      <td>1</td>\n",
              "    </tr>\n",
              "    <tr>\n",
              "      <th>4</th>\n",
              "      <td>57</td>\n",
              "      <td>0</td>\n",
              "      <td>0</td>\n",
              "      <td>120</td>\n",
              "      <td>354</td>\n",
              "      <td>0</td>\n",
              "      <td>1</td>\n",
              "      <td>163</td>\n",
              "      <td>1</td>\n",
              "      <td>0.6</td>\n",
              "      <td>2</td>\n",
              "      <td>0</td>\n",
              "      <td>2</td>\n",
              "      <td>1</td>\n",
              "    </tr>\n",
              "  </tbody>\n",
              "</table>\n",
              "</div>\n",
              "      <button class=\"colab-df-convert\" onclick=\"convertToInteractive('df-e962164a-f9ea-4a99-9d68-bcc3ac8dedc1')\"\n",
              "              title=\"Convert this dataframe to an interactive table.\"\n",
              "              style=\"display:none;\">\n",
              "        \n",
              "  <svg xmlns=\"http://www.w3.org/2000/svg\" height=\"24px\"viewBox=\"0 0 24 24\"\n",
              "       width=\"24px\">\n",
              "    <path d=\"M0 0h24v24H0V0z\" fill=\"none\"/>\n",
              "    <path d=\"M18.56 5.44l.94 2.06.94-2.06 2.06-.94-2.06-.94-.94-2.06-.94 2.06-2.06.94zm-11 1L8.5 8.5l.94-2.06 2.06-.94-2.06-.94L8.5 2.5l-.94 2.06-2.06.94zm10 10l.94 2.06.94-2.06 2.06-.94-2.06-.94-.94-2.06-.94 2.06-2.06.94z\"/><path d=\"M17.41 7.96l-1.37-1.37c-.4-.4-.92-.59-1.43-.59-.52 0-1.04.2-1.43.59L10.3 9.45l-7.72 7.72c-.78.78-.78 2.05 0 2.83L4 21.41c.39.39.9.59 1.41.59.51 0 1.02-.2 1.41-.59l7.78-7.78 2.81-2.81c.8-.78.8-2.07 0-2.86zM5.41 20L4 18.59l7.72-7.72 1.47 1.35L5.41 20z\"/>\n",
              "  </svg>\n",
              "      </button>\n",
              "      \n",
              "  <style>\n",
              "    .colab-df-container {\n",
              "      display:flex;\n",
              "      flex-wrap:wrap;\n",
              "      gap: 12px;\n",
              "    }\n",
              "\n",
              "    .colab-df-convert {\n",
              "      background-color: #E8F0FE;\n",
              "      border: none;\n",
              "      border-radius: 50%;\n",
              "      cursor: pointer;\n",
              "      display: none;\n",
              "      fill: #1967D2;\n",
              "      height: 32px;\n",
              "      padding: 0 0 0 0;\n",
              "      width: 32px;\n",
              "    }\n",
              "\n",
              "    .colab-df-convert:hover {\n",
              "      background-color: #E2EBFA;\n",
              "      box-shadow: 0px 1px 2px rgba(60, 64, 67, 0.3), 0px 1px 3px 1px rgba(60, 64, 67, 0.15);\n",
              "      fill: #174EA6;\n",
              "    }\n",
              "\n",
              "    [theme=dark] .colab-df-convert {\n",
              "      background-color: #3B4455;\n",
              "      fill: #D2E3FC;\n",
              "    }\n",
              "\n",
              "    [theme=dark] .colab-df-convert:hover {\n",
              "      background-color: #434B5C;\n",
              "      box-shadow: 0px 1px 3px 1px rgba(0, 0, 0, 0.15);\n",
              "      filter: drop-shadow(0px 1px 2px rgba(0, 0, 0, 0.3));\n",
              "      fill: #FFFFFF;\n",
              "    }\n",
              "  </style>\n",
              "\n",
              "      <script>\n",
              "        const buttonEl =\n",
              "          document.querySelector('#df-e962164a-f9ea-4a99-9d68-bcc3ac8dedc1 button.colab-df-convert');\n",
              "        buttonEl.style.display =\n",
              "          google.colab.kernel.accessAllowed ? 'block' : 'none';\n",
              "\n",
              "        async function convertToInteractive(key) {\n",
              "          const element = document.querySelector('#df-e962164a-f9ea-4a99-9d68-bcc3ac8dedc1');\n",
              "          const dataTable =\n",
              "            await google.colab.kernel.invokeFunction('convertToInteractive',\n",
              "                                                     [key], {});\n",
              "          if (!dataTable) return;\n",
              "\n",
              "          const docLinkHtml = 'Like what you see? Visit the ' +\n",
              "            '<a target=\"_blank\" href=https://colab.research.google.com/notebooks/data_table.ipynb>data table notebook</a>'\n",
              "            + ' to learn more about interactive tables.';\n",
              "          element.innerHTML = '';\n",
              "          dataTable['output_type'] = 'display_data';\n",
              "          await google.colab.output.renderOutput(dataTable, element);\n",
              "          const docLink = document.createElement('div');\n",
              "          docLink.innerHTML = docLinkHtml;\n",
              "          element.appendChild(docLink);\n",
              "        }\n",
              "      </script>\n",
              "    </div>\n",
              "  </div>\n",
              "  "
            ]
          },
          "metadata": {},
          "execution_count": 3
        }
      ]
    },
    {
      "cell_type": "code",
      "source": [
        "print(' Dataset Info :-')\n",
        "print('----' * 4)\n",
        "print('Total Rows:', df.shape[0])\n",
        "print('Total Columns:', df.shape[1])\n",
        "print('\\n')\n",
        "print('Dataset Details :-')\n",
        "print('---' * 5)\n",
        "df.isnull().sum()"
      ],
      "metadata": {
        "colab": {
          "base_uri": "https://localhost:8080/"
        },
        "id": "b4X7rIVA18aW",
        "outputId": "19bd6785-ce3c-48c7-a0db-ef297c58ed63"
      },
      "execution_count": 7,
      "outputs": [
        {
          "output_type": "stream",
          "name": "stdout",
          "text": [
            " Dataset Info :-\n",
            "----------------\n",
            "Total Rows: 303\n",
            "Total Columns: 14\n",
            "\n",
            "\n",
            "Dataset Details :-\n",
            "---------------\n"
          ]
        },
        {
          "output_type": "execute_result",
          "data": {
            "text/plain": [
              "age         0\n",
              "sex         0\n",
              "cp          0\n",
              "trestbps    0\n",
              "chol        0\n",
              "fbs         0\n",
              "restecg     0\n",
              "thalach     0\n",
              "exang       0\n",
              "oldpeak     0\n",
              "slope       0\n",
              "ca          0\n",
              "thal        0\n",
              "target      0\n",
              "dtype: int64"
            ]
          },
          "metadata": {},
          "execution_count": 7
        }
      ]
    },
    {
      "cell_type": "code",
      "source": [
        "lst=['sex', 'cp', 'fbs', 'restecg', 'exang', 'slope', 'ca', 'thal']\n",
        "df[lst] = df[lst].astype(object)"
      ],
      "metadata": {
        "id": "sDgI_hJS3I_k"
      },
      "execution_count": 8,
      "outputs": []
    },
    {
      "cell_type": "code",
      "source": [
        "labels=['Female', 'Male']\n",
        "order=df['sex'].value_counts().index\n",
        "plt.figure(figsize=(16, 5))\n",
        "plt.suptitle('Sex (Gender) Distribution', fontweight='heavy', \n",
        "             fontsize='1', fontfamily='sans-serif')\n",
        "# plt.subplot(1, 2, 1)\n",
        "plt.title('Pie Chart', fontweight='bold', fontsize=14)\n",
        "plt.pie(df['sex'].value_counts(), labels=labels,pctdistance=0.7,\n",
        "        autopct='%.2f%%', wedgeprops=dict(alpha=0.8))\n",
        "centre=plt.Circle((0, 0), 0.45, fc='white')\n",
        "plt.gcf().gca().add_artist(centre)"
      ],
      "metadata": {
        "colab": {
          "base_uri": "https://localhost:8080/",
          "height": 356
        },
        "id": "ds7fPgZv3fHU",
        "outputId": "942c03bb-c67f-40d9-ca5c-f9d791f55a5d"
      },
      "execution_count": 44,
      "outputs": [
        {
          "output_type": "execute_result",
          "data": {
            "text/plain": [
              "<matplotlib.patches.Circle at 0x7f0fd5da4d90>"
            ]
          },
          "metadata": {},
          "execution_count": 44
        },
        {
          "output_type": "display_data",
          "data": {
            "text/plain": [
              "<Figure size 1152x360 with 1 Axes>"
            ],
            "image/png": "[encoded data removed]"
          },
          "metadata": {}
        }
      ]
    },
    {
      "cell_type": "code",
      "source": [
        "from sklearn.preprocessing import MinMaxScaler\n",
        "\n",
        "\n",
        "colors=color_mix[3:5]\n",
        "\n",
        "labels=['True', 'False']\n",
        "order=df['target'].value_counts().index\n",
        "\n",
        "# --- Size for Both Figures ---\n",
        "plt.figure(figsize=(16,8))\n",
        "plt.suptitle('Heart Diseases Distribution', fontweight='heavy', \n",
        "             fontsize=16, fontfamily='sans-serif', color=black_grad[0])\n",
        "\n",
        "# --- Histogram ---\n",
        "countplt = plt.subplot(1, 2, 2)\n",
        "plt.title('Histogram', fontweight='bold', fontsize=14, fontfamily='sans-serif', \n",
        "          color=black_grad[0])\n",
        "ax = sns.countplot(x='sex', data=df, palette=colors, order=order,\n",
        "                   edgecolor=black_grad[2], alpha=0.85)\n",
        "\n",
        "for rect in ax.patches:\n",
        "    ax.text (rect.get_x()+rect.get_width()/2, \n",
        "             rect.get_height()+4.25,rect.get_height(), \n",
        "             horizontalalignment='center', fontsize=10,\n",
        "             bbox=dict(facecolor='none', edgecolor=black_grad[0], linewidth=0.25,\n",
        "                       boxstyle='round'))\n",
        "\n",
        "plt.xlabel('Heart Disease Status', fontweight='bold', fontsize=11, \n",
        "           fontfamily='sans-serif', color=black_grad[1])\n",
        "plt.ylabel('Total', fontweight='bold', fontsize=8, fontfamily='sans-serif', \n",
        "           color=black_grad[1])\n",
        "plt.xticks([0, 1], labels)\n",
        "plt.grid(axis='y', alpha=0.4)\n",
        "countplt\n",
        "\n",
        "\n",
        "\n",
        "print('Heart Diseases Status (target) Total :-')\n",
        "print('-' * 37)\n",
        "df.target.value_counts(dropna=False)\n"
      ],
      "metadata": {
        "colab": {
          "base_uri": "https://localhost:8080/",
          "height": 641
        },
        "id": "khBjJV094LHt",
        "outputId": "b0e9bde5-b976-4a65-b838-bafe9a18a643"
      },
      "execution_count": null,
      "outputs": [
        {
          "output_type": "stream",
          "name": "stdout",
          "text": [
            "Heart Diseases Status (target) Total :-\n",
            "-------------------------------------\n"
          ]
        },
        {
          "output_type": "execute_result",
          "data": {
            "text/plain": [
              "1    165\n",
              "0    138\n",
              "Name: target, dtype: int64"
            ]
          },
          "metadata": {},
          "execution_count": 36
        },
        {
          "output_type": "display_data",
          "data": {
            "text/plain": [
              "<Figure size 1152x576 with 1 Axes>"
            ],
            "image/png": "[encoded data removed]"
          },
          "metadata": {}
        }
      ]
    },
    {
      "cell_type": "markdown",
      "source": [
        "\n",
        "\n",
        "# ---------Test(20%) and Train(80%) Data split-------------"
      ],
      "metadata": {
        "id": "an12o6DCLTTM"
      }
    },
    {
      "cell_type": "code",
      "source": [
        "# --- Splitting Dataset into 80:20 ---\n",
        "x = df.drop(['target'], axis=1)\n",
        "y = df['target']\n",
        "x = MinMaxScaler().fit_transform(x)\n",
        "x_train, x_test, y_train, y_test = train_test_split(x, y, test_size=0.2, random_state=4)"
      ],
      "metadata": {
        "id": "ltPz9W8H6fE6"
      },
      "execution_count": null,
      "outputs": []
    },
    {
      "cell_type": "markdown",
      "source": [
        "# **----------K fold cross validation-------------**"
      ],
      "metadata": {
        "id": "GSiKJwM0LGy8"
      }
    },
    {
      "cell_type": "code",
      "source": [
        "from statistics import stdev\n",
        "from sklearn.model_selection import cross_val_score\n",
        "from sklearn.model_selection import KFold\n",
        "rf = RandomForestClassifier(n_estimators=50, random_state=13)\n",
        "kf = KFold(n_splits=5, shuffle=False)\n",
        "score = cross_val_score(rf, x_train, y_train, cv=kf, scoring='recall')\n",
        "score = cross_val_score(rf, x_train, y_train, cv=kf, scoring='recall')\n",
        "rf_cv_score = score.mean()\n",
        "rf_cv_stdev = stdev(score)\n",
        "print('Cross Validation Recall scores are: {}'.format(score))\n",
        "print('Average Cross Validation Recall score: ', rf_cv_score)\n",
        "print('Cross Validation Recall standard deviation: ', rf_cv_stdev)"
      ],
      "metadata": {
        "colab": {
          "base_uri": "https://localhost:8080/"
        },
        "id": "yKo8eNnVJwMH",
        "outputId": "4ec4c931-d667-48de-dc45-5952fbffe573"
      },
      "execution_count": null,
      "outputs": [
        {
          "output_type": "stream",
          "name": "stdout",
          "text": [
            "Cross Validation Recall scores are: [0.62962963 0.96551724 0.76       0.81818182 0.88461538]\n",
            "Average Cross Validation Recall score:  0.8115888147612285\n",
            "Cross Validation Recall standard deviation:  0.12731934160027483\n"
          ]
        }
      ]
    },
    {
      "cell_type": "markdown",
      "source": [
        "# **-------------- Nayeb Bayes Classification------------**"
      ],
      "metadata": {
        "id": "cfMS9Je860Re"
      }
    },
    {
      "cell_type": "code",
      "source": [
        "GNBclassifier = GaussianNB(var_smoothing=0.1)\n",
        "GNBclassifier.fit(x_train, y_train)\n",
        "\n",
        "y_pred_GNB = GNBclassifier.predict(x_test)"
      ],
      "metadata": {
        "id": "44OFb5Yt67WR"
      },
      "execution_count": null,
      "outputs": []
    },
    {
      "cell_type": "code",
      "source": [
        "# --- GNB Accuracy ---\n",
        "from yellowbrick.classifier import ConfusionMatrix\n",
        "GNBAcc = accuracy_score(y_pred_GNB, y_test)\n",
        "print('Naive Bayes Accuracy:'+'{:.2f}%'.format(GNBAcc*100)+' .')\n",
        "f, ax1 = plt.subplots()\n",
        "# # --- GNB Confusion Matrix ---\n",
        "gnbmatrix = ConfusionMatrix(GNBclassifier, ax=ax1, cmap='PuRd',\n",
        "                            title='Gaussian Naive Bayes Confusion Matrix')\n",
        "gnbmatrix.fit(x_train, y_train)\n",
        "gnbmatrix.score(x_test, y_test)\n"
      ],
      "metadata": {
        "colab": {
          "base_uri": "https://localhost:8080/",
          "height": 379
        },
        "id": "65iji12T68rB",
        "outputId": "811e3959-f57d-4062-bd8e-21c26301dda6"
      },
      "execution_count": null,
      "outputs": [
        {
          "output_type": "stream",
          "name": "stdout",
          "text": [
            "Naive Bayes Accuracy:86.89% .\n"
          ]
        },
        {
          "output_type": "execute_result",
          "data": {
            "text/plain": [
              "0.8688524590163934"
            ]
          },
          "metadata": {},
          "execution_count": 45
        },
        {
          "output_type": "display_data",
          "data": {
            "text/plain": [
              "<Figure size 576x396 with 1 Axes>"
            ],
            "image/png": "[encoded data removed]"
          },
          "metadata": {}
        }
      ]
    },
    {
      "cell_type": "code",
      "source": [],
      "metadata": {
        "id": "7IjOXMXAtj62"
      },
      "execution_count": null,
      "outputs": []
    },
    {
      "cell_type": "markdown",
      "source": [
        "# **------------Random Forest Classification----------------**"
      ],
      "metadata": {
        "id": "rhsF27hCKBaU"
      }
    },
    {
      "cell_type": "code",
      "source": [
        "RFclassifier = RandomForestClassifier(n_estimators=1000, random_state=1, max_leaf_nodes=20, min_samples_split=15)\n",
        "\n",
        "RFclassifier.fit(x_train, y_train)\n",
        "y_pred_RF = RFclassifier.predict(x_test)"
      ],
      "metadata": {
        "id": "DU_IJoY-KSfc"
      },
      "execution_count": null,
      "outputs": []
    },
    {
      "cell_type": "code",
      "source": [
        "RFAcc = accuracy_score(y_pred_RF, y_test)\n",
        "print('Random Forest Accuracy:'+' {:.2f}%'.format(RFAcc*100)+'')\n",
        "\n",
        "# --- Random Forest Confusion Matrix ---\n",
        "f, ax1 = plt.subplots()\n",
        "rfcmatrix = ConfusionMatrix(RFclassifier, ax=ax1, cmap='PuRd',\n",
        "                            title='Random Forest Confusion Matrix')\n",
        "rfcmatrix.fit(x_train, y_train)\n",
        "rfcmatrix.score(x_test, y_test)\n"
      ],
      "metadata": {
        "colab": {
          "base_uri": "https://localhost:8080/",
          "height": 379
        },
        "id": "VVvrJJjtKVmV",
        "outputId": "a06db9c0-ac9c-4605-8620-87e80a4fd9f6"
      },
      "execution_count": null,
      "outputs": [
        {
          "output_type": "stream",
          "name": "stdout",
          "text": [
            "Random Forest Accuracy: 91.80%\n"
          ]
        },
        {
          "output_type": "execute_result",
          "data": {
            "text/plain": [
              "0.9180327868852459"
            ]
          },
          "metadata": {},
          "execution_count": 50
        },
        {
          "output_type": "display_data",
          "data": {
            "text/plain": [
              "<Figure size 576x396 with 1 Axes>"
            ],
            "image/png": "[encoded data removed]"
          },
          "metadata": {}
        }
      ]
    },
    {
      "cell_type": "markdown",
      "source": [
        "## --------Compare Both Model-------"
      ],
      "metadata": {
        "id": "GAyVDKnVLqn0"
      }
    },
    {
      "cell_type": "code",
      "source": [
        "# --- Create Accuracy Comparison Table ---\n",
        "print('Compare Random forest & Naive Bayes model:')\n",
        "print('-' * 41)\n",
        "compare = pd.DataFrame({'Model': ['Naive Bayes', 'Random Forest'], \n",
        "                        'Accuracy': [GNBAcc*100,RFAcc*100]})\n",
        "\n",
        "\n",
        "compare.sort_values(by='Accuracy', ascending=False).style.background_gradient(cmap='PuRd').hide_index().set_properties(**{'font-family': 'Segoe UI'})"
      ],
      "metadata": {
        "colab": {
          "base_uri": "https://localhost:8080/",
          "height": 147
        },
        "id": "GlTWzF-2LzJ-",
        "outputId": "7db340a5-ea3c-4e90-f7c1-b1bf83bd3275"
      },
      "execution_count": null,
      "outputs": [
        {
          "output_type": "stream",
          "name": "stdout",
          "text": [
            "Compare Random forest & Naive Bayes model:\n",
            "-----------------------------------------\n"
          ]
        },
        {
          "output_type": "execute_result",
          "data": {
            "text/plain": [
              "<pandas.io.formats.style.Styler at 0x7f9e1a55cd90>"
            ],
            "text/html": [
              "<style type=\"text/css\">\n",
              "#T_c4282_row0_col0, #T_c4282_row1_col0 {\n",
              "  font-family: Segoe UI;\n",
              "}\n",
              "#T_c4282_row0_col1 {\n",
              "  background-color: #67001f;\n",
              "  color: #f1f1f1;\n",
              "  font-family: Segoe UI;\n",
              "}\n",
              "#T_c4282_row1_col1 {\n",
              "  background-color: #f7f4f9;\n",
              "  color: #000000;\n",
              "  font-family: Segoe UI;\n",
              "}\n",
              "</style>\n",
              "<table id=\"T_c4282_\" class=\"dataframe\">\n",
              "  <thead>\n",
              "    <tr>\n",
              "      <th class=\"col_heading level0 col0\" >Model</th>\n",
              "      <th class=\"col_heading level0 col1\" >Accuracy</th>\n",
              "    </tr>\n",
              "  </thead>\n",
              "  <tbody>\n",
              "    <tr>\n",
              "      <td id=\"T_c4282_row0_col0\" class=\"data row0 col0\" >Random Forest</td>\n",
              "      <td id=\"T_c4282_row0_col1\" class=\"data row0 col1\" >91.803279</td>\n",
              "    </tr>\n",
              "    <tr>\n",
              "      <td id=\"T_c4282_row1_col0\" class=\"data row1 col0\" >Naive Bayes</td>\n",
              "      <td id=\"T_c4282_row1_col1\" class=\"data row1 col1\" >86.885246</td>\n",
              "    </tr>\n",
              "  </tbody>\n",
              "</table>\n"
            ]
          },
          "metadata": {},
          "execution_count": 69
        }
      ]
    }
  ]
}